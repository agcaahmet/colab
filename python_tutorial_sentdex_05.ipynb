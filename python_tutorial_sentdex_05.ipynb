{
  "nbformat": 4,
  "nbformat_minor": 0,
  "metadata": {
    "colab": {
      "name": "python_tutorial_sentdex_05.ipynb",
      "version": "0.3.2",
      "provenance": [],
      "collapsed_sections": [],
      "include_colab_link": true
    },
    "kernelspec": {
      "name": "python3",
      "display_name": "Python 3"
    }
  },
  "cells": [
    {
      "cell_type": "markdown",
      "metadata": {
        "id": "view-in-github",
        "colab_type": "text"
      },
      "source": [
        "<a href=\"https://colab.research.google.com/github/agcaahmet/colab/blob/master/python_tutorial_sentdex_05.ipynb\" target=\"_parent\"><img src=\"https://colab.research.google.com/assets/colab-badge.svg\" alt=\"Open In Colab\"/></a>"
      ]
    },
    {
      "metadata": {
        "id": "GtL4PGqV-V58",
        "colab_type": "code",
        "colab": {
          "base_uri": "https://localhost:8080/",
          "height": 35
        },
        "outputId": "9a2607ce-74fe-4449-d124-32dbc3b6dcfa"
      },
      "cell_type": "code",
      "source": [
        "game = [[0, 0, 0],\n",
        "        [0, 0, 0],\n",
        "        [0, 0, 0]]\n",
        "\n",
        "print(game)"
      ],
      "execution_count": 1,
      "outputs": [
        {
          "output_type": "stream",
          "text": [
            "[[0, 0, 0], [0, 0, 0], [0, 0, 0]]\n"
          ],
          "name": "stdout"
        }
      ]
    },
    {
      "metadata": {
        "id": "do8T-ymU_Kne",
        "colab_type": "code",
        "colab": {
          "base_uri": "https://localhost:8080/",
          "height": 90
        },
        "outputId": "6361bf3b-5218-4b93-abff-b4e2c320b3dc"
      },
      "cell_type": "code",
      "source": [
        "print(\"   a  b  c\")\n",
        "for count, row in enumerate(game):\n",
        "  print(count, row)"
      ],
      "execution_count": 2,
      "outputs": [
        {
          "output_type": "stream",
          "text": [
            "   a  b  c\n",
            "0 [0, 0, 0]\n",
            "1 [0, 0, 0]\n",
            "2 [0, 0, 0]\n"
          ],
          "name": "stdout"
        }
      ]
    },
    {
      "metadata": {
        "id": "ddB9dzEU_XmR",
        "colab_type": "code",
        "colab": {
          "base_uri": "https://localhost:8080/",
          "height": 90
        },
        "outputId": "463aca7a-8187-46d5-a591-7750e713d4bb"
      },
      "cell_type": "code",
      "source": [
        "game[0][1] = 1\n",
        "\n",
        "print(\"   a  b  c\")\n",
        "for count, row in enumerate(game):\n",
        "  print(count, row)"
      ],
      "execution_count": 3,
      "outputs": [
        {
          "output_type": "stream",
          "text": [
            "   a  b  c\n",
            "0 [0, 1, 0]\n",
            "1 [0, 0, 0]\n",
            "2 [0, 0, 0]\n"
          ],
          "name": "stdout"
        }
      ]
    }
  ]
}