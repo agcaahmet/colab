{
  "nbformat": 4,
  "nbformat_minor": 0,
  "metadata": {
    "colab": {
      "name": "python_tutorial_sentdex_02.ipynb",
      "version": "0.3.2",
      "provenance": [],
      "collapsed_sections": [],
      "include_colab_link": true
    },
    "kernelspec": {
      "name": "python3",
      "display_name": "Python 3"
    }
  },
  "cells": [
    {
      "cell_type": "markdown",
      "metadata": {
        "id": "view-in-github",
        "colab_type": "text"
      },
      "source": [
        "<a href=\"https://colab.research.google.com/github/agcaahmet/colab/blob/master/python_tutorial_sentdex_02.ipynb\" target=\"_parent\"><img src=\"https://colab.research.google.com/assets/colab-badge.svg\" alt=\"Open In Colab\"/></a>"
      ]
    },
    {
      "metadata": {
        "id": "OP30OBcogEbr",
        "colab_type": "code",
        "colab": {
          "base_uri": "https://localhost:8080/",
          "height": 35
        },
        "outputId": "a481b5b8-0dae-4ab1-a6c7-058e10b28645"
      },
      "cell_type": "code",
      "source": [
        "programming_languages = \"Python\", \"Java\", \"C++\", \"C#\"\n",
        "\n",
        "type(programming_languages)"
      ],
      "execution_count": 2,
      "outputs": [
        {
          "output_type": "execute_result",
          "data": {
            "text/plain": [
              "tuple"
            ]
          },
          "metadata": {
            "tags": []
          },
          "execution_count": 2
        }
      ]
    },
    {
      "metadata": {
        "id": "2jK2N2wx1va6",
        "colab_type": "code",
        "colab": {
          "base_uri": "https://localhost:8080/",
          "height": 90
        },
        "outputId": "6a19c1b8-be1c-4365-c058-397c57472d26"
      },
      "cell_type": "code",
      "source": [
        "for language in programming_languages:\n",
        "  print(language)"
      ],
      "execution_count": 3,
      "outputs": [
        {
          "output_type": "stream",
          "text": [
            "Python\n",
            "Java\n",
            "C++\n",
            "C#\n"
          ],
          "name": "stdout"
        }
      ]
    }
  ]
}